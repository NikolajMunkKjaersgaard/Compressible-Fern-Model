{
 "cells": [
  {
   "cell_type": "code",
   "id": "initial_id",
   "metadata": {
    "collapsed": true,
    "ExecuteTime": {
     "end_time": "2025-10-16T14:55:26.111976Z",
     "start_time": "2025-10-16T14:55:25.829695Z"
    }
   },
   "source": [
    "import numpy as np\n",
    "import matplotlib.pyplot as plt"
   ],
   "outputs": [],
   "execution_count": 1
  },
  {
   "metadata": {},
   "cell_type": "markdown",
   "source": "# setting up constants",
   "id": "2a497762ae63acbd"
  },
  {
   "metadata": {
    "ExecuteTime": {
     "end_time": "2025-10-16T14:55:26.147422Z",
     "start_time": "2025-10-16T14:55:26.145554Z"
    }
   },
   "cell_type": "code",
   "source": [
    "N = 10\n",
    "l = 10\n",
    "rhow = 10**3\n",
    "rhois = 913\n",
    "n = 3\n",
    "R = 8.31446261815324  # J/mol/K\n",
    "g = 9.82\n",
    "sec_per_year = 365.25 * 24 * 60 * 60\n",
    "#tunable parameters\n",
    "a = 2\n",
    "b = 3\n"
   ],
   "id": "f3c3fb883856ed39",
   "outputs": [],
   "execution_count": 2
  },
  {
   "metadata": {},
   "cell_type": "markdown",
   "source": "# Defining individual functions",
   "id": "b55e19fe04ac1b2b"
  },
  {
   "metadata": {
    "ExecuteTime": {
     "end_time": "2025-10-16T14:55:26.162215Z",
     "start_time": "2025-10-16T14:55:26.157754Z"
    }
   },
   "cell_type": "code",
   "source": [
    "\n",
    "def getEffectiveDeviatoricStress(stress):\n",
    "    \"\"\"\n",
    "    Computes the effective deviatoric stress for the given stress tensor.\n",
    "\n",
    "    :param stress: Stress tensor, assumed to be symmetric.\n",
    "    :type stress: numpy.ndarray\n",
    "    :return: The calculated effective deviatoric stress.\n",
    "    :rtype: float\n",
    "    \"\"\"\n",
    "    return 1/2 * np.tensordot(stress,stress)\n",
    "\n",
    "def getDeviatoric(tensor):\n",
    "    \"\"\"\n",
    "    Calculate the deviatoric part of a tensor.\n",
    "\n",
    "    :param tensor: Input tensor to compute the deviatoric part. Should be of size 3x3\n",
    "    :type tensor: numpy.ndarray\n",
    "    :return: The deviatoric part of the input tensor.\n",
    "    :rtype: numpy.ndarray\n",
    "    \"\"\"\n",
    "    return tensor - (1/3 * np.trace(tensor)*np.eye(3))\n",
    "\n",
    "def getPressure(stress):\n",
    "    '''\n",
    "    Calculates the hydrostatic pressure tensor\n",
    "    :param stress: 3x3 symmetric numpy array\n",
    "    :return: np.ones like array with p along axis\n",
    "    '''\n",
    "    return -1/3 *np.trace(stress)*np.eye(3)\n",
    "\n",
    "\n",
    "def getEffectiveStress(stress):\n",
    "    \"\"\"\n",
    "    Computes the effective stress based on input stress tensor.\n",
    "\n",
    "    :param stress: numpy.ndarray\n",
    "        The stress tensor input for which effective stress is computed.\n",
    "    :return: float\n",
    "        The computed effective stress.\n",
    "    \"\"\"\n",
    "    effectiveDeviatoricStress = getEffectiveDeviatoricStress(stress)\n",
    "    pressure = getPressure(stress)[0,0]\n",
    "    effectiveStress = np.sqrt(a*effectiveDeviatoricStress**2 +1/3*b*pressure**2)\n",
    "    return effectiveStress\n",
    "\n",
    "def getStrainRate(stress, a, b, A, n=3):\n",
    "    \"\"\"\n",
    "    Calculates the strain rate based on the provided stress tensor using constitutive relationships.\n",
    "\n",
    "    This function computes the strain rate by first calculating the effective stress,\n",
    "    deviatoric stress, and pressure from the input stress tensor.\n",
    "\n",
    "    :param stress: The stress tensor used to compute strain rate. 3x3 numpy array\n",
    "    :return: The computed strain rate. float\n",
    "    \"\"\"\n",
    "    deviatoricStress = getDeviatoric(stress)\n",
    "    effectiveDeviatoricStress = getEffectiveStress(deviatoricStress)\n",
    "    pressure = getPressure(stress)\n",
    "    se2 = a* effectiveDeviatoricStress + (b* pressure**2)/3\n",
    "    phi = A *se2**((n - 1)/2)\n",
    "    strainRates = phi*(a*deviatoricStress - 2*b*pressure*np.eye(3)/9)\n",
    "    return strainRates\n",
    "\n",
    "# def Overburden(rho, dz):\n",
    "#     \"\"\"\n",
    "#     :param rho: A list representing density values at different depth intervals.\n",
    "#     :type rho: list[float]\n",
    "#     :param dz: A list representing thickness (depth intervals) corresponding to the density values.\n",
    "#     :type dz: list[float]\n",
    "#     :return: The total overburden (vertical stress).\n",
    "#     :rtype: float\n",
    "#     \"\"\"\n",
    "#     burden = 0\n",
    "#     for i in range(len(rho)):\n",
    "#         burden += rho[i]*dz[i]\n",
    "#     return g*burden\n",
    "\n",
    "def r_fun(a, b):\n",
    "    return 2 / (3 * a) + 3 / (2 * b)\n",
    "\n",
    "def closed_form_cubic_root(k3, k2, k1, k0):\n",
    "    # https://medium.com/@mephisto_Dev/solving-cubic-equation-using-cardanos-method-with-python-9465f0b92277\n",
    "    p = (3 * k3 * k1 - k2**2) / (3 * k3**2)\n",
    "    q = (2 * k2**3 - 9 * k3 * k2 * k1 + 27 * k3**2 * k0) / (27 * k3**3)\n",
    "    delta = q**2 / 4 + p**3 / 27\n",
    "    u = np.cbrt(-q / 2 + np.sqrt(delta))\n",
    "    v = np.cbrt(-q / 2 - np.sqrt(delta))\n",
    "    return u + v - k2 / (3 * k3)\n",
    "\n",
    "def gagliardini_ezz(sigma_zz, a, b, A, e1=0, e2=0):\n",
    "    # assuming e1=0 and e2=0\n",
    "    # assuming n=3 (and no additional linear term in the rheology!)\n",
    "    if b == 0:\n",
    "        return -e1 - e2\n",
    "    r = r_fun(a, b)\n",
    "    p = (e1 + e2) / (3 * a) - 3 * (e1 + e2) / (2 * b)\n",
    "    Asig3 = A * sigma_zz**3\n",
    "    k0 = (\n",
    "        Asig3 * ((e1**2 + e2**2 - e1 * e2) / (3 * a) + 3 * (e1 + e2) ** 2 / (4 * b))\n",
    "        + p**3\n",
    "    )\n",
    "    k1 = -p * Asig3 - 3 * p**2 * r\n",
    "    k2 = 0.5 * r * Asig3 + 3 * p * r**2\n",
    "    k3 = -(r**3)\n",
    "    return closed_form_cubic_root(k3, k2, k1, k0)\n",
    "\n",
    "def a_fun(rho):\n",
    "    # zwinger 2007\n",
    "    r = rho / rhois\n",
    "    a1 = np.exp(13.22240 - 15.78652 * r)\n",
    "    a2 = (1 + (2 / 3) * (1 - r)) * (r ** (-1.5))  # assuming n=3\n",
    "    return np.where(r < 0.81, a1, a2) # selects a1 if r< 0.81 else it returns a2\n",
    "\n",
    "\n",
    "def b_fun(rho):  # note the factor 3 difference between zwinger and JL\n",
    "    r = rho / rhois\n",
    "    b1 = np.exp(15.09371 - 20.46489 * r)\n",
    "    b2 = 0.75 * ( ((1 - r) ** (1 / 3)) / (3 * (1 - (1 - r) ** (1 / 3) ) ) ) ** (\n",
    "        1.5\n",
    "    )  # assuming n=3\n",
    "    return np.where(r < 0.81, b1, b2) / 3\n"
   ],
   "id": "9a93e8406a3106b",
   "outputs": [],
   "execution_count": 3
  },
  {
   "metadata": {},
   "cell_type": "markdown",
   "source": "# testing fuctions",
   "id": "9f46a07481534a6e"
  },
  {
   "metadata": {
    "ExecuteTime": {
     "end_time": "2025-10-16T14:55:26.170713Z",
     "start_time": "2025-10-16T14:55:26.168978Z"
    }
   },
   "cell_type": "code",
   "source": [
    "testArray = np.array(([1,2,3],\n",
    "                     [2,4,5],\n",
    "                     [3,5,1]))"
   ],
   "id": "60f9ef383f82ee2f",
   "outputs": [],
   "execution_count": 4
  },
  {
   "metadata": {
    "ExecuteTime": {
     "end_time": "2025-10-16T14:55:26.179418Z",
     "start_time": "2025-10-16T14:55:26.177677Z"
    }
   },
   "cell_type": "code",
   "source": [
    "effectiveStress = getEffectiveStress(testArray)\n",
    "deviatoricStress = getDeviatoric(testArray)\n",
    "pressure = getPressure(testArray)\n",
    "strainRates = effectiveStress**(n-1)*(a*deviatoricStress - 2/3*b*pressure)"
   ],
   "id": "ef47161d3cb01fa2",
   "outputs": [],
   "execution_count": 5
  },
  {
   "metadata": {
    "ExecuteTime": {
     "end_time": "2025-10-16T14:55:26.191110Z",
     "start_time": "2025-10-16T14:55:26.189417Z"
    }
   },
   "cell_type": "code",
   "source": "print('effecttiveStress',effectiveStress,'?', 'deviatoricStress', deviatoricStress, '?', 'pressure',pressure, '?', 'strain rate', strainRates)",
   "id": "f9b5c1795aec51e7",
   "outputs": [
    {
     "name": "stdout",
     "output_type": "stream",
     "text": [
      "effecttiveStress 66.4981202741852 ? deviatoricStress [[-1.  2.  3.]\n",
      " [ 2.  2.  5.]\n",
      " [ 3.  5. -1.]] ? pressure [[-2. -0. -0.]\n",
      " [-0. -2. -0.]\n",
      " [-0. -0. -2.]] ? strain rate [[ 8844. 17688. 26532.]\n",
      " [17688. 35376. 44220.]\n",
      " [26532. 44220.  8844.]]\n"
     ]
    }
   ],
   "execution_count": 6
  },
  {
   "metadata": {},
   "cell_type": "markdown",
   "source": [
    "**Introducing densification model**\n",
    "Vi har en array med densiteter -> horizontale stress fra satelitter eller målebokse ->For hvert lag skal der så ske følgende.\n",
    "\n",
    "Den nuværende 'burden' skal udregnes $\\sigma_{zz}$\n",
    "ud fra densiteten skal a og b udregnes.\n",
    "\n",
    "de honrisontale stress komponenter skal diagonaliseres og sammen med de andre ting fodres til gaglardini_ezz.\n",
    "Vha massebevarelse $(\\frac{D\\rho}{Dt}) = (\\epsilon_{xx(1)}+\\epsilon_{yy(2)} + \\epsilon_{z})$\n",
    "\n",
    "\n",
    "\n",
    "\n",
    "$$\n",
    "\\rho_{new} = \\rho_{old} + (\\frac{D\\rho}{Dt}) \\cdot dt\n",
    "$$\n",
    "Vil gerne implementere $(\\frac{D\\rho}{Dt})$ sådan at den kan udregnes for hver celle ved et funktionskald\n"
   ],
   "id": "144b613ba25195ba"
  },
  {
   "metadata": {
    "ExecuteTime": {
     "end_time": "2025-10-16T14:55:26.213182Z",
     "start_time": "2025-10-16T14:55:26.209192Z"
    }
   },
   "cell_type": "code",
   "source": [
    "def r_fun(a, b):\n",
    "    return 2 / (3 * a) + 3 / (2 * b)\n",
    "\n",
    "def closed_form_cubic_root(k3, k2, k1, k0):\n",
    "    # https://medium.com/@mephisto_Dev/solving-cubic-equation-using-cardanos-method-with-python-9465f0b92277\n",
    "    p = (3 * k3 * k1 - k2**2) / (3 * k3**2)\n",
    "    q = (2 * k2**3 - 9 * k3 * k2 * k1 + 27 * k3**2 * k0) / (27 * k3**3)\n",
    "    delta = q**2 / 4 + p**3 / 27\n",
    "    if delta < 0 and delta > -1*1e-10:\n",
    "        delta = 0\n",
    "    assert delta>=0, 'no complex root allowed'\n",
    "    u = np.cbrt(-q / 2 + np.emath.sqrt(delta))\n",
    "    v = np.cbrt(-q / 2 - np.emath.sqrt(delta))\n",
    "    # print(f\"p {p}, q {q}, u {u}, v {v}, delta {delta}\")\n",
    "    return u + v - k2 / (3 * k3)\n",
    "\n",
    "def gagliardini_ezz(sigma_zz, a, b, A, e1=0, e2=0):\n",
    "    # assuming e1=0 and e2=0\n",
    "    # assuming n=3 (and no additional linear term in the rheology!)\n",
    "    if b == 0:\n",
    "        return -e1 - e2\n",
    "    r = r_fun(a, b)\n",
    "    p = (e1 + e2) / (3 * a) - 3 * (e1 + e2) / (2 * b)\n",
    "    Asig3 = A * sigma_zz**3\n",
    "    k0 = (\n",
    "        Asig3 * ((e1**2 + e2**2 - e1 * e2) / (3 * a) + 3 * (e1 + e2) ** 2 / (4 * b))\n",
    "        + p**3\n",
    "    )\n",
    "    k1 = -p * Asig3 - 3 * p**2 * r\n",
    "    k2 = 0.5 * r * Asig3 + 3 * p * r**2\n",
    "    k3 = -(r**3)\n",
    "    # print(f'k3- {k3}, k2-{k2}, k1-{k1}, k0-{k0}')\n",
    "    return closed_form_cubic_root(k3, k2, k1, k0)\n",
    "\n",
    "def Burden(zGrid):\n",
    "    F = [0]\n",
    "    N = len(zGrid)\n",
    "    for i in range(N):\n",
    "        Parcel = zGrid[i]\n",
    "        dF = g*Parcel[0]*Parcel[1]\n",
    "        F.append(dF)\n",
    "    return np.cumsum(F)\n",
    "\n",
    "def A_fun(T):\n",
    "    A1 = 3.985e-13 * np.exp(-60e3 / (R * T))\n",
    "    A2 = 1.916e3 * np.exp(-139e3 / (R * T))\n",
    "    return np.maximum(A1, A2)\n",
    "def Diagonalize(M):\n",
    "    L = np.linalg.eig(M)\n",
    "    return np.diag(L[0])\n",
    "# Volume = 1\n",
    "# Height = 1\n",
    "# WidthX = 1\n",
    "# bdot = 300 / sec_per_year #kg/m2/s\n",
    "# steps = 100\n",
    "# # rho_fern = 350 #kg/m3\n",
    "# dt = 24*60*60\n",
    "# z = []\n",
    "# ez_array = []\n",
    "# A = A_fun(273-30)\n",
    "# YearlySteps = int(sec_per_year/dt)\n",
    "# e1 = 0\n",
    "# e2 = 0\n",
    "# for i in range(steps): #all snow accumulates in the same grid cell for one year, so steps determines the total amout of rows created\n",
    "#     CellDensity = 0\n",
    "#     parcel = np.array([0, Volume, Height, WidthX]) #creating a new cell\n",
    "#     z.append(parcel)#adding the parcel to the zarray\n",
    "#     for ii in range(0, YearlySteps-1):#running through the year\n",
    "#         CellDensity += bdot*dt\n",
    "#         z[i][0] = CellDensity\n",
    "#         OverBurden = Burden(z)\n",
    "#         # print(z[i][0]) printing the cell densities with time / debgugging\n",
    "#         for iii in range (0, len(z) - 1): # updating the above cells\n",
    "#             parcel = z[iii]\n",
    "#             rho = parcel[0]\n",
    "#             height = parcel[2]\n",
    "#             SigmaZZ = -OverBurden[len(z)-iii]\n",
    "#             # print(f'SigmaZZ{SigmaZZ}, zlayer {iii}')\n",
    "#             a = a_fun(rho)\n",
    "#             b = b_fun(rho)\n",
    "#             # print(r_fun(a,b))\n",
    "#             ezz = gagliardini_ezz(SigmaZZ, a, b, A)\n",
    "#             dRhoDt = -(e1+e2+ezz)*rho\n",
    "#             new_rho = dRhoDt*dt + rho\n",
    "#             Uz = ezz*dt*height\n",
    "#             strain = ezz * dt\n",
    "#             new_height = height*(1 + strain)\n",
    "#             new_parcel = np.array([new_rho, Volume, new_height, WidthX ])\n",
    "#             z[iii] = new_parcel\n",
    "#             # print(f'nH{New_height}, height{height}')\n",
    "#             # print(f'new_H {new_height:.4f}, strain {strain:.6f}, iii{iii}')\n",
    "#             # print(z[iii][2])\n",
    "#             # print(f\"    Layer {iii}: ezz = {ezz}, dRhoDt = {dRhoDt}, rho_after = {z[iii][0]}\")\n",
    "#\n",
    "#     #     print('..')\n",
    "#     # print('---')\n",
    "\n"
   ],
   "id": "5661240f5fd8101a",
   "outputs": [],
   "execution_count": 7
  },
  {
   "metadata": {
    "ExecuteTime": {
     "end_time": "2025-10-16T14:55:55.013558Z",
     "start_time": "2025-10-16T14:55:26.222913Z"
    }
   },
   "cell_type": "code",
   "source": [
    "\n",
    "def SimulateFern(steps,HorizontalStress):\n",
    "    Volume = 1\n",
    "    Height = 1\n",
    "    WidthX = 1\n",
    "    bdot = 300 / sec_per_year #kg/m2/s\n",
    "    dt = 24*60*60\n",
    "    z = []\n",
    "    ez_array = []\n",
    "    A = A_fun(273-30)\n",
    "    YearlySteps = int(sec_per_year/dt)\n",
    "    e1 = 0\n",
    "    e2 = 0\n",
    "    for i in range(steps): #all snow accumulates in the same grid cell for one year, so steps determines the total amout of rows created\n",
    "        e1, e2 = HorizontalStress[i,:]\n",
    "        CellDensity = 0\n",
    "        parcel = np.array([0, Volume, Height, WidthX]) #creating a new cell\n",
    "        z.append(parcel)#adding the parcel to the zarray\n",
    "        for ii in range(0, YearlySteps-1):#running through the year\n",
    "            CellDensity += bdot*dt\n",
    "            z[i][0] = CellDensity\n",
    "            OverBurden = Burden(z)\n",
    "            # print(z[i][0]) printing the cell densities with time / debgugging\n",
    "            for iii in range (0, len(z) - 1): # updating the above cells\n",
    "                parcel = z[iii]\n",
    "                rho = parcel[0]\n",
    "                height = parcel[2]\n",
    "                SigmaZZ = -OverBurden[len(z)-iii]\n",
    "                # print(f'SigmaZZ{SigmaZZ}, zlayer {iii}')\n",
    "                a = a_fun(rho)\n",
    "                b = b_fun(rho)\n",
    "                # print(r_fun(a,b))\n",
    "                ezz = gagliardini_ezz(SigmaZZ, a, b, A, e1 = e1, e2=e2)\n",
    "                dRhoDt = -(e1+e2+ezz)*rho\n",
    "                new_rho = dRhoDt*dt + rho\n",
    "                strain = ezz * dt\n",
    "                new_height = height*(1 + strain)\n",
    "                new_parcel = np.array([new_rho, Volume, new_height, WidthX ])\n",
    "                z[iii] = new_parcel\n",
    "    return z\n",
    "\n",
    "steps = 170\n",
    "HSigma = np.zeros([steps,2])\n",
    "I1 = np.array([[-5*1e-11,2*1e-11] for i in range(steps)])\n",
    "# I2 = np.array([[-1*1e-11,-1*1e-11] for i in range(steps)])\n",
    "zH1 = SimulateFern(steps, I1)\n",
    "# zH2 = SimulateFern(steps, I2)\n",
    "z = SimulateFern(steps, HSigma)"
   ],
   "id": "cebab3b4fea2e52f",
   "outputs": [
    {
     "ename": "KeyboardInterrupt",
     "evalue": "",
     "output_type": "error",
     "traceback": [
      "\u001B[0;31m---------------------------------------------------------------------------\u001B[0m",
      "\u001B[0;31mKeyboardInterrupt\u001B[0m                         Traceback (most recent call last)",
      "Cell \u001B[0;32mIn[8], line 45\u001B[0m\n\u001B[1;32m     43\u001B[0m I1 \u001B[38;5;241m=\u001B[39m np\u001B[38;5;241m.\u001B[39marray([[\u001B[38;5;241m-\u001B[39m\u001B[38;5;241m5\u001B[39m\u001B[38;5;241m*\u001B[39m\u001B[38;5;241m1e-11\u001B[39m,\u001B[38;5;241m2\u001B[39m\u001B[38;5;241m*\u001B[39m\u001B[38;5;241m1e-11\u001B[39m] \u001B[38;5;28;01mfor\u001B[39;00m i \u001B[38;5;129;01min\u001B[39;00m \u001B[38;5;28mrange\u001B[39m(steps)])\n\u001B[1;32m     44\u001B[0m \u001B[38;5;66;03m# I2 = np.array([[-1*1e-11,-1*1e-11] for i in range(steps)])\u001B[39;00m\n\u001B[0;32m---> 45\u001B[0m zH1 \u001B[38;5;241m=\u001B[39m SimulateFern(steps, I1)\n\u001B[1;32m     46\u001B[0m \u001B[38;5;66;03m# zH2 = SimulateFern(steps, I2)\u001B[39;00m\n\u001B[1;32m     47\u001B[0m z \u001B[38;5;241m=\u001B[39m SimulateFern(steps, HSigma)\n",
      "Cell \u001B[0;32mIn[8], line 37\u001B[0m, in \u001B[0;36mSimulateFern\u001B[0;34m(steps, HorizontalStress)\u001B[0m\n\u001B[1;32m     35\u001B[0m             strain \u001B[38;5;241m=\u001B[39m ezz \u001B[38;5;241m*\u001B[39m dt\n\u001B[1;32m     36\u001B[0m             new_height \u001B[38;5;241m=\u001B[39m height\u001B[38;5;241m*\u001B[39m(\u001B[38;5;241m1\u001B[39m \u001B[38;5;241m+\u001B[39m strain)\n\u001B[0;32m---> 37\u001B[0m             new_parcel \u001B[38;5;241m=\u001B[39m np\u001B[38;5;241m.\u001B[39marray([new_rho, Volume, new_height, WidthX ])\n\u001B[1;32m     38\u001B[0m             z[iii] \u001B[38;5;241m=\u001B[39m new_parcel\n\u001B[1;32m     39\u001B[0m \u001B[38;5;28;01mreturn\u001B[39;00m z\n",
      "\u001B[0;31mKeyboardInterrupt\u001B[0m: "
     ]
    }
   ],
   "execution_count": 8
  },
  {
   "metadata": {
    "ExecuteTime": {
     "end_time": "2025-10-16T14:55:55.028699Z",
     "start_time": "2025-10-07T11:15:22.157979Z"
    }
   },
   "cell_type": "code",
   "source": [
    "Years = np.arange(0, steps)\n",
    "plt.style.use('fivethirtyeight')\n",
    "plt.plot(Years, np.asarray(zH1)[::-1, 0], linewidth=3, label='With horizontal stress e1 = -5e-11. e2 = 2*1e-11')\n",
    "# plt.plot(Years, np.asarray(zH2)[::-1, 0], linewidth=1, label='With horizontal stress -1e-11 ' )\n",
    "plt.plot(Years, np.asarray(z)[::-1, 0], linewidth=2, label='Without horizontal stress')\n",
    "\n",
    "plt.xlabel('Layer age [yr]')\n",
    "plt.ylabel('Firn density [kg/m3]')\n",
    "plt.legend()\n"
   ],
   "id": "5c25a3826123e497",
   "outputs": [
    {
     "data": {
      "text/plain": [
       "<matplotlib.legend.Legend at 0x11a55d7f0>"
      ]
     },
     "execution_count": 60,
     "metadata": {},
     "output_type": "execute_result"
    },
    {
     "data": {
      "text/plain": [
       "<Figure size 640x480 with 1 Axes>"
      ],
      "image/png": "[encoded data removed]"
     },
     "metadata": {},
     "output_type": "display_data"
    }
   ],
   "execution_count": 60
  },
  {
   "metadata": {
    "ExecuteTime": {
     "end_time": "2025-10-16T14:55:55.034720Z",
     "start_time": "2025-10-06T12:56:49.161174Z"
    }
   },
   "cell_type": "code",
   "source": [
    "A = np.array([[5,5], [1,2]])\n",
    "B = np.diag(np.linalg.eig(A)[0])\n",
    "\n",
    "Diagonalize(A)"
   ],
   "id": "b1b163ad4e8c6e50",
   "outputs": [
    {
     "data": {
      "text/plain": [
       "array([[6.1925824, 0.       ],\n",
       "       [0.       , 0.8074176]])"
      ]
     },
     "execution_count": 42,
     "metadata": {},
     "output_type": "execute_result"
    }
   ],
   "execution_count": 42
  },
  {
   "metadata": {
    "ExecuteTime": {
     "end_time": "2025-10-16T14:55:55.043649Z",
     "start_time": "2025-10-07T11:19:07.534285Z"
    }
   },
   "cell_type": "code",
   "source": [
    "def Modified_gagliardini_ezz(sigma_zz, a, b, A, e1=0, e2=0):\n",
    "    # assuming e1=0 and e2=0\n",
    "    # assuming n=3 (and no additional linear term in the rheology!)\n",
    "    if b == 0:\n",
    "        return -e1 - e2\n",
    "    r = r_fun(a, b)\n",
    "    p = (e1 + e2) / (3 * a) - 3 * (e1 + e2) / (2 * b)\n",
    "    Asig3 = A * sigma_zz**3\n",
    "    k0 = (\n",
    "        Asig3 * ((e1**2 + e2**2 - e1 * e2) / (3 * a) + 3 * (e1 + e2) ** 2 / (4 * b))\n",
    "        + p**3\n",
    "    )\n",
    "    k1 = -p * Asig3 - 3 * p**2 * r\n",
    "    k2 = 0.5 * r * Asig3 + 3 * p * r**2\n",
    "    k3 = -(r**3)\n",
    "    # print(f'k3- {k3}, k2-{k2}, k1-{k1}, k0-{k0}')\n",
    "    return k3,k2,k1,k0\n",
    "ks = Modified_gagliardini_ezz(sigma_zz=-91700, a = a_fun(500), b = b_fun(500), e1=-5e-2, e2=2e-2, A = A_fun(273-30))\n",
    "x = np.linspace(-0.01, 0.1, 1000)\n",
    "\n",
    "def cubic_eq(x,a,b,c,d):\n",
    "\n",
    "    return a*x**3 +b*x**2 + c*x + d\n",
    "y = cubic_eq(x,ks[0], ks[1], ks[2], ks[3])\n",
    "fig, ax = plt.subplots()\n",
    "ax.plot(x, y, linewidth = 0.3)\n",
    "plt.tight_layout()\n"
   ],
   "id": "e44f68825a04512b",
   "outputs": [
    {
     "data": {
      "text/plain": [
       "<Figure size 640x480 with 1 Axes>"
      ],
      "image/png": "[encoded data removed]"
     },
     "metadata": {},
     "output_type": "display_data"
    }
   ],
   "execution_count": 65
  },
  {
   "metadata": {},
   "cell_type": "code",
   "outputs": [],
   "execution_count": null,
   "source": "",
   "id": "30afc2c4bc494916"
  }
 ],
 "metadata": {
  "kernelspec": {
   "display_name": "Python 3",
   "language": "python",
   "name": "python3"
  },
  "language_info": {
   "codemirror_mode": {
    "name": "ipython",
    "version": 2
   },
   "file_extension": ".py",
   "mimetype": "text/x-python",
   "name": "python",
   "nbconvert_exporter": "python",
   "pygments_lexer": "ipython2",
   "version": "2.7.6"
  }
 },
 "nbformat": 4,
 "nbformat_minor": 5
}
